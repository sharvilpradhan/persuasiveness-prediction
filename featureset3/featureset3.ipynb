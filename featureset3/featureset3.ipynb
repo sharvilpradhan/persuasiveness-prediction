{
 "cells": [
  {
   "cell_type": "code",
   "execution_count": 1,
   "metadata": {},
   "outputs": [],
   "source": [
    "#importing libraries\n",
    "import spacy\n",
    "import pandas as pd\n",
    "import nltk\n",
    "import numpy as np\n",
    "from vaderSentiment.vaderSentiment import SentimentIntensityAnalyzer\n",
    "from sklearn.ensemble import RandomForestClassifier"
   ]
  },
  {
   "cell_type": "code",
   "execution_count": 2,
   "metadata": {},
   "outputs": [],
   "source": [
    "#loading the spacy pretrained model on English news\n",
    "nlp = spacy.load('en_core_web_md')"
   ]
  },
  {
   "cell_type": "code",
   "execution_count": 10,
   "metadata": {},
   "outputs": [],
   "source": [
    "data = pd.read_csv('cleantrainingdata.csv')"
   ]
  },
  {
   "cell_type": "code",
   "execution_count": 16,
   "metadata": {},
   "outputs": [],
   "source": [
    "#preparing the training input and output\n",
    "\n",
    "xtrain=[]\n",
    "ytrain = []\n",
    "\n",
    "\n",
    "l = data['length']\n",
    "sim = data['similarity']\n",
    "neg = data['neg_score']\n",
    "neut = data['neut_score']\n",
    "pos = data['pos_score']\n",
    "comp = data['comp_score']\n",
    "hed = data['count_hedgewords']\n",
    "post=data['text']\n",
    "ide=data['thread_id']\n",
    "label=data['delta']\n",
    "auth = data['author']\n",
    "auth_score = data['author_score']\n",
    "auth_flair = data['author_flair']\n",
    "\n",
    "\n",
    "for i in range(1, ide.size):\n",
    "    #v = [sim.loc[i],neg.loc[i],pos.loc[i],comp.loc[i],hed.loc[i],auth_score.loc[i],auth_flair[i]]\n",
    "    v = [l.loc[i],sim.loc[i],comp.loc[i],hed.loc[i],auth_score.loc[i],auth_flair[i]]\n",
    "    lab = label.loc[i]\n",
    "    xtrain.append(v)\n",
    "    ytrain.append(lab)"
   ]
  },
  {
   "cell_type": "code",
   "execution_count": 18,
   "metadata": {},
   "outputs": [
    {
     "data": {
      "text/plain": [
       "RandomForestClassifier(bootstrap=True, class_weight=None, criterion='gini',\n",
       "            max_depth=None, max_features='auto', max_leaf_nodes=None,\n",
       "            min_impurity_decrease=0.0, min_impurity_split=None,\n",
       "            min_samples_leaf=1, min_samples_split=2,\n",
       "            min_weight_fraction_leaf=0.0, n_estimators=300, n_jobs=-1,\n",
       "            oob_score=False, random_state=None, verbose=0,\n",
       "            warm_start=False)"
      ]
     },
     "execution_count": 18,
     "metadata": {},
     "output_type": "execute_result"
    }
   ],
   "source": [
    "#random forrest classifier \n",
    "xtrain=np.array(xtrain).astype(np.int32)\n",
    "ytrain=np.array(ytrain).astype(np.int32)\n",
    "\n",
    "rfc = RandomForestClassifier(n_jobs=-1, n_estimators=300, max_features='auto')\n",
    "rfc.fit(xtrain, ytrain)\n",
    "#print('Random Forest percentage score on 25% validation=',rfc.score(xtrain,ytrain)*100)"
   ]
  },
  {
   "cell_type": "code",
   "execution_count": 19,
   "metadata": {},
   "outputs": [],
   "source": [
    "datat = pd.read_csv('cleantestingdata.csv')"
   ]
  },
  {
   "cell_type": "code",
   "execution_count": 20,
   "metadata": {},
   "outputs": [],
   "source": [
    "#preparing test input and output\n",
    "xtest=[]\n",
    "ytest = []\n",
    "\n",
    "lt = datat['length']\n",
    "simt = datat['similarity']\n",
    "negt = datat['neg_score']\n",
    "neutt = datat['neut_score']\n",
    "post = datat['pos_score']\n",
    "compt = datat['comp_score']\n",
    "hedt = datat['count_hedgewords']\n",
    "postt=datat['text']\n",
    "idet=datat['thread_id']\n",
    "labelt=datat['delta']\n",
    "autht = datat['author']\n",
    "auth_scoret = datat['author_score']\n",
    "auth_flairt = datat['author_flair']\n",
    "\n",
    "for i in range(1, idet.size):\n",
    "    vt = [lt.loc[i],simt.loc[i],compt.loc[i],hedt.loc[i],auth_scoret.loc[i],auth_flairt.loc[i]]\n",
    "    labt = labelt.loc[i]\n",
    "    xtest.append(vt)\n",
    "    ytest.append(labt)"
   ]
  },
  {
   "cell_type": "code",
   "execution_count": 21,
   "metadata": {},
   "outputs": [],
   "source": [
    "ypred = rfc.predict(xtest)\n",
    "ypred_list = ypred.tolist()\n",
    "\n",
    "#print(rfc.score(xtest,ytest)*100)\n",
    "\n",
    "\n",
    "#Save ypred in csv file\n",
    "dataypred = pd.DataFrame(columns=['predicted_delta'])\n",
    "dataypred['predicted_delta']=ypred_list\n",
    "\n",
    "dataypred.to_csv('predicteddelta.csv')"
   ]
  },
  {
   "cell_type": "code",
   "execution_count": 22,
   "metadata": {},
   "outputs": [
    {
     "name": "stdout",
     "output_type": "stream",
     "text": [
      "\n",
      " Confusion Matrix: \n",
      " [[231  69]\n",
      " [ 76 222]]\n",
      "\n",
      " Accuracy:  75.75250836120402\n",
      "\n",
      " Precision, Recall, F1-score: \n",
      "               precision    recall  f1-score   support\n",
      "\n",
      "           0       0.75      0.77      0.76       300\n",
      "           1       0.76      0.74      0.75       298\n",
      "\n",
      "   micro avg       0.76      0.76      0.76       598\n",
      "   macro avg       0.76      0.76      0.76       598\n",
      "weighted avg       0.76      0.76      0.76       598\n",
      "\n",
      "\n",
      " Cohen Kappa Score:  0.5150067678677301\n"
     ]
    }
   ],
   "source": [
    "#Performance Metrics\n",
    "from sklearn.metrics import confusion_matrix\n",
    "from sklearn.metrics import accuracy_score\n",
    "from sklearn.metrics import classification_report\n",
    "from sklearn.metrics import cohen_kappa_score\n",
    "\n",
    "\n",
    "print('\\n Confusion Matrix: \\n', confusion_matrix(ytest,ypred,labels=[0,1]))\n",
    "print('\\n Accuracy: ', accuracy_score(ytest,ypred)*100)\n",
    "print('\\n Precision, Recall, F1-score: \\n',classification_report(ytest,ypred))\n",
    "s = cohen_kappa_score(ytest,ypred)\n",
    "print('\\n Cohen Kappa Score: ',s)"
   ]
  },
  {
   "cell_type": "code",
   "execution_count": null,
   "metadata": {},
   "outputs": [],
   "source": []
  }
 ],
 "metadata": {
  "kernelspec": {
   "display_name": "Python 3",
   "language": "python",
   "name": "python3"
  },
  "language_info": {
   "codemirror_mode": {
    "name": "ipython",
    "version": 3
   },
   "file_extension": ".py",
   "mimetype": "text/x-python",
   "name": "python",
   "nbconvert_exporter": "python",
   "pygments_lexer": "ipython3",
   "version": "3.7.1"
  }
 },
 "nbformat": 4,
 "nbformat_minor": 2
}
