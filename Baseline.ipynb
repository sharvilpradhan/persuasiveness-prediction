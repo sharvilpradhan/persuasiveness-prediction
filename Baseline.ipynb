{
 "cells": [
  {
   "cell_type": "code",
   "execution_count": 1,
   "metadata": {},
   "outputs": [
    {
     "name": "stderr",
     "output_type": "stream",
     "text": [
      "[nltk_data] Downloading package punkt to\n",
      "[nltk_data]     C:\\Users\\spradha5\\AppData\\Roaming\\nltk_data...\n",
      "[nltk_data]   Package punkt is already up-to-date!\n",
      "[nltk_data] Downloading package stopwords to\n",
      "[nltk_data]     C:\\Users\\spradha5\\AppData\\Roaming\\nltk_data...\n",
      "[nltk_data]   Package stopwords is already up-to-date!\n"
     ]
    }
   ],
   "source": [
    "import spacy\n",
    "import pandas as pd\n",
    "import nltk\n",
    "nltk.download('punkt')\n",
    "nltk.download('stopwords')\n",
    "#nltk.download('hedgewords')\n",
    "from nltk.tokenize import word_tokenize\n",
    "from nltk.corpus import stopwords\n",
    "#from nltk.corpus import hedge_words\n",
    "import numpy as np\n",
    "from vaderSentiment.vaderSentiment import SentimentIntensityAnalyzer\n",
    "from sklearn.ensemble import RandomForestClassifier\n",
    "from sklearn.svm import LinearSVC"
   ]
  },
  {
   "cell_type": "code",
   "execution_count": 2,
   "metadata": {},
   "outputs": [],
   "source": [
    "nlp = spacy.load('en_core_web_lg')"
   ]
  },
  {
   "cell_type": "code",
   "execution_count": 3,
   "metadata": {},
   "outputs": [],
   "source": [
    "data = pd.read_csv(\"P2_Training_Dataset - Copy.csv\") \n",
    "post=data['text']\n",
    "ide=data['thread_id']\n",
    "label=data['delta']"
   ]
  },
  {
   "cell_type": "code",
   "execution_count": 4,
   "metadata": {},
   "outputs": [],
   "source": [
    "def cosine(s1,s2):\n",
    "    s1_vec = nlp(s1)\n",
    "    s2_vec = nlp(s2)\n",
    "    return s1_vec.similarity(s2_vec)"
   ]
  },
  {
   "cell_type": "code",
   "execution_count": 5,
   "metadata": {},
   "outputs": [],
   "source": [
    "analyser = SentimentIntensityAnalyzer()\n",
    "def sentiment(s2):\n",
    "    score = analyser.polarity_scores(s2)\n",
    "    listscore = list(score.values())\n",
    "    return listscore"
   ]
  },
  {
   "cell_type": "code",
   "execution_count": 6,
   "metadata": {},
   "outputs": [
    {
     "name": "stderr",
     "output_type": "stream",
     "text": [
      "C:\\Users\\spradha5\\AppData\\Local\\Continuum\\anaconda3\\lib\\runpy.py:193: UserWarning: [W008] Evaluating Doc.similarity based on empty vectors.\n",
      "  \"__main__\", mod_spec)\n",
      "C:\\Users\\spradha5\\AppData\\Local\\Continuum\\anaconda3\\lib\\runpy.py:193: UserWarning: [W008] Evaluating Doc.similarity based on empty vectors.\n",
      "  \"__main__\", mod_spec)\n"
     ]
    }
   ],
   "source": [
    "xtrain=[]\n",
    "ytrain=[]\n",
    "\n",
    "#print(type(post.loc[3]))\n",
    "#print(len(post.loc[3]))\n",
    "op=0;\n",
    "for i in range(1,ide.size):\n",
    "    if ide.loc[i]!=ide.loc[op]:\n",
    "        op=i\n",
    "        continue\n",
    "    s1=str(post.loc[op])\n",
    "    s2=str(post.loc[i])\n",
    "    lab=label.loc[i]\n",
    "    \n",
    "    f1=len(s2)\n",
    "    \n",
    "    #print((s2))\n",
    "    f2=cosine(s1,s2)\n",
    "    f3=sentiment(s2)\n",
    "    #f4=hedge(s2)\n",
    "    \n",
    "    vec=[f1,f2]\n",
    "    xtrain.append(vec + f3)\n",
    "    ytrain.append(lab)\n"
   ]
  },
  {
   "cell_type": "code",
   "execution_count": 14,
   "metadata": {},
   "outputs": [
    {
     "data": {
      "text/plain": [
       "(822,)"
      ]
     },
     "execution_count": 14,
     "metadata": {},
     "output_type": "execute_result"
    }
   ],
   "source": [
    "xtrain=np.array(xtrain).astype(np.int32)\n",
    "ytrain=np.array(ytrain).astype(np.int32)\n",
    "\n"
   ]
  },
  {
   "cell_type": "code",
   "execution_count": 7,
   "metadata": {},
   "outputs": [
    {
     "name": "stdout",
     "output_type": "stream",
     "text": [
      "Random Forest percentage score on 25% validation= 99.7566909975669\n"
     ]
    }
   ],
   "source": [
    "\n",
    "\n",
    "rfc = RandomForestClassifier(n_jobs=-1, n_estimators=300, max_features='auto')\n",
    "rfc.fit(xtrain, ytrain)\n",
    "print('Random Forest percentage score on 25% validation=',rfc.score(xtrain,ytrain)*100)"
   ]
  },
  {
   "cell_type": "code",
   "execution_count": 8,
   "metadata": {},
   "outputs": [
    {
     "name": "stdout",
     "output_type": "stream",
     "text": [
      "0\n"
     ]
    }
   ],
   "source": [
    "print(ytrain[0])"
   ]
  },
  {
   "cell_type": "code",
   "execution_count": 9,
   "metadata": {},
   "outputs": [],
   "source": [
    "datat = pd.read_csv(\"P2_Testing_Dataset - Copy.csv\") \n",
    "postt=datat['text']\n",
    "idet=datat['thread_id']\n",
    "labelt=datat['delta']"
   ]
  },
  {
   "cell_type": "code",
   "execution_count": 10,
   "metadata": {},
   "outputs": [
    {
     "name": "stderr",
     "output_type": "stream",
     "text": [
      "C:\\Users\\spradha5\\AppData\\Local\\Continuum\\anaconda3\\lib\\runpy.py:193: UserWarning: [W008] Evaluating Doc.similarity based on empty vectors.\n",
      "  \"__main__\", mod_spec)\n"
     ]
    }
   ],
   "source": [
    "xtest=[]\n",
    "ytest=[]\n",
    "\n",
    "#print(type(post.loc[3]))\n",
    "#print(len(post.loc[3]))\n",
    "opt=0;\n",
    "for i in range(1,idet.size):\n",
    "    if idet.loc[i]!=idet.loc[opt]:\n",
    "        opt=i\n",
    "        continue\n",
    "    s1t=str(postt.loc[opt])\n",
    "    s2t=str(postt.loc[i])\n",
    "    labt=labelt.loc[i]\n",
    "    \n",
    "    f1=len(s2t)\n",
    "    \n",
    "    #print((s2))\n",
    "    f2=cosine(s1t,s2t)\n",
    "    f3=sentiment(s2t)\n",
    "    #f4=hedge(s2)\n",
    "    \n",
    "    vec=[f1,f2]\n",
    "    xtest.append(vec + f3)\n",
    "    ytest.append(labt)\n"
   ]
  },
  {
   "cell_type": "code",
   "execution_count": 15,
   "metadata": {},
   "outputs": [
    {
     "name": "stdout",
     "output_type": "stream",
     "text": [
      "98.91146589259797\n",
      "<class 'numpy.ndarray'>\n"
     ]
    }
   ],
   "source": [
    "ypred = rfc.predict(xtest)\n",
    "print(rfc.score(xtest,ytest)*100)\n",
    "print(type(ypred))"
   ]
  },
  {
   "cell_type": "code",
   "execution_count": 12,
   "metadata": {},
   "outputs": [
    {
     "name": "stdout",
     "output_type": "stream",
     "text": [
      "\n",
      " Confusion Matrix: \n",
      " [[1363    0]\n",
      " [  15    0]]\n",
      "\n",
      " Accuracy:  98.91146589259797\n"
     ]
    },
    {
     "name": "stderr",
     "output_type": "stream",
     "text": [
      "C:\\Users\\spradha5\\AppData\\Local\\Continuum\\anaconda3\\lib\\site-packages\\sklearn\\metrics\\classification.py:1437: UndefinedMetricWarning: Precision and F-score are ill-defined and being set to 0.0 in labels with no predicted samples.\n",
      "  'precision', 'predicted', average, warn_for)\n"
     ]
    },
    {
     "name": "stdout",
     "output_type": "stream",
     "text": [
      "\n",
      " Precision, Recall, F1-score: \n",
      "               precision    recall  f1-score   support\n",
      "\n",
      "           0       0.99      1.00      0.99      1363\n",
      "           1       0.00      0.00      0.00        15\n",
      "\n",
      "    accuracy                           0.99      1378\n",
      "   macro avg       0.49      0.50      0.50      1378\n",
      "weighted avg       0.98      0.99      0.98      1378\n",
      "\n"
     ]
    }
   ],
   "source": [
    "#Performance Metrics\n",
    "from sklearn.metrics import confusion_matrix\n",
    "from sklearn.metrics import accuracy_score\n",
    "from sklearn.metrics import classification_report\n",
    "\n",
    "print('\\n Confusion Matrix: \\n', confusion_matrix(ytest,ypred,labels=[0,1]))\n",
    "print('\\n Accuracy: ', accuracy_score(ytest,ypred)*100)\n",
    "print('\\n Precision, Recall, F1-score: \\n',classification_report(ytest,ypred))"
   ]
  }
 ],
 "metadata": {
  "kernelspec": {
   "display_name": "Python 3",
   "language": "python",
   "name": "python3"
  },
  "language_info": {
   "codemirror_mode": {
    "name": "ipython",
    "version": 3
   },
   "file_extension": ".py",
   "mimetype": "text/x-python",
   "name": "python",
   "nbconvert_exporter": "python",
   "pygments_lexer": "ipython3",
   "version": "3.7.3"
  }
 },
 "nbformat": 4,
 "nbformat_minor": 2
}
